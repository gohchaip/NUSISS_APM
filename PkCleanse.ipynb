{
 "cells": [
  {
   "cell_type": "code",
   "execution_count": 1,
   "metadata": {},
   "outputs": [],
   "source": [
    "import pandas as pd\n",
    "import re\n",
    "from pandas.api.types import is_string_dtype\n",
    "from pandas.api.types import is_numeric_dtype\n",
    "from datetime import datetime\n"
   ]
  },
  {
   "cell_type": "code",
   "execution_count": 2,
   "metadata": {},
   "outputs": [],
   "source": [
    "def ExceptionMsg(field,reason):\n",
    "    return \"Exception for \"+field+' - '+reason\n",
    "    "
   ]
  },
  {
   "cell_type": "code",
   "execution_count": 3,
   "metadata": {},
   "outputs": [
    {
     "name": "stderr",
     "output_type": "stream",
     "text": [
      "C:\\ProgramData\\Anaconda3\\lib\\site-packages\\IPython\\core\\interactiveshell.py:2785: DtypeWarning: Columns (1,2,3,7,8,9,11,12,13,14,17,18,19) have mixed types. Specify dtype option on import or set low_memory=False.\n",
      "  interactivity=interactivity, compiler=compiler, result=result)\n"
     ]
    },
    {
     "data": {
      "text/html": [
       "<div>\n",
       "<style scoped>\n",
       "    .dataframe tbody tr th:only-of-type {\n",
       "        vertical-align: middle;\n",
       "    }\n",
       "\n",
       "    .dataframe tbody tr th {\n",
       "        vertical-align: top;\n",
       "    }\n",
       "\n",
       "    .dataframe thead th {\n",
       "        text-align: right;\n",
       "    }\n",
       "</style>\n",
       "<table border=\"1\" class=\"dataframe\">\n",
       "  <thead>\n",
       "    <tr style=\"text-align: right;\">\n",
       "      <th></th>\n",
       "      <th>item_id</th>\n",
       "      <th>status</th>\n",
       "      <th>created_at</th>\n",
       "      <th>sku</th>\n",
       "      <th>price</th>\n",
       "      <th>qty_ordered</th>\n",
       "      <th>grand_total</th>\n",
       "      <th>increment_id</th>\n",
       "      <th>category_name_1</th>\n",
       "      <th>sales_commission_code</th>\n",
       "      <th>...</th>\n",
       "      <th>Month</th>\n",
       "      <th>Customer Since</th>\n",
       "      <th>M-Y</th>\n",
       "      <th>FY</th>\n",
       "      <th>Customer ID</th>\n",
       "      <th>Unnamed: 21</th>\n",
       "      <th>Unnamed: 22</th>\n",
       "      <th>Unnamed: 23</th>\n",
       "      <th>Unnamed: 24</th>\n",
       "      <th>Unnamed: 25</th>\n",
       "    </tr>\n",
       "  </thead>\n",
       "  <tbody>\n",
       "    <tr>\n",
       "      <th>0</th>\n",
       "      <td>211131.0</td>\n",
       "      <td>complete</td>\n",
       "      <td>7/1/2016</td>\n",
       "      <td>kreations_YI 06-L</td>\n",
       "      <td>1950.0</td>\n",
       "      <td>1.0</td>\n",
       "      <td>1950.0</td>\n",
       "      <td>100147443</td>\n",
       "      <td>Women's Fashion</td>\n",
       "      <td>\\N</td>\n",
       "      <td>...</td>\n",
       "      <td>7.0</td>\n",
       "      <td>2016-7</td>\n",
       "      <td>7-2016</td>\n",
       "      <td>FY17</td>\n",
       "      <td>1.0</td>\n",
       "      <td>NaN</td>\n",
       "      <td>NaN</td>\n",
       "      <td>NaN</td>\n",
       "      <td>NaN</td>\n",
       "      <td>NaN</td>\n",
       "    </tr>\n",
       "    <tr>\n",
       "      <th>1</th>\n",
       "      <td>211133.0</td>\n",
       "      <td>canceled</td>\n",
       "      <td>7/1/2016</td>\n",
       "      <td>kcc_Buy 2 Frey Air Freshener &amp; Get 1 Kasual Bo...</td>\n",
       "      <td>240.0</td>\n",
       "      <td>1.0</td>\n",
       "      <td>240.0</td>\n",
       "      <td>100147444</td>\n",
       "      <td>Beauty &amp; Grooming</td>\n",
       "      <td>\\N</td>\n",
       "      <td>...</td>\n",
       "      <td>7.0</td>\n",
       "      <td>2016-7</td>\n",
       "      <td>7-2016</td>\n",
       "      <td>FY17</td>\n",
       "      <td>2.0</td>\n",
       "      <td>NaN</td>\n",
       "      <td>NaN</td>\n",
       "      <td>NaN</td>\n",
       "      <td>NaN</td>\n",
       "      <td>NaN</td>\n",
       "    </tr>\n",
       "    <tr>\n",
       "      <th>2</th>\n",
       "      <td>211134.0</td>\n",
       "      <td>canceled</td>\n",
       "      <td>7/1/2016</td>\n",
       "      <td>Ego_UP0017-999-MR0</td>\n",
       "      <td>2450.0</td>\n",
       "      <td>1.0</td>\n",
       "      <td>2450.0</td>\n",
       "      <td>100147445</td>\n",
       "      <td>Women's Fashion</td>\n",
       "      <td>\\N</td>\n",
       "      <td>...</td>\n",
       "      <td>7.0</td>\n",
       "      <td>2016-7</td>\n",
       "      <td>7-2016</td>\n",
       "      <td>FY17</td>\n",
       "      <td>3.0</td>\n",
       "      <td>NaN</td>\n",
       "      <td>NaN</td>\n",
       "      <td>NaN</td>\n",
       "      <td>NaN</td>\n",
       "      <td>NaN</td>\n",
       "    </tr>\n",
       "    <tr>\n",
       "      <th>3</th>\n",
       "      <td>211135.0</td>\n",
       "      <td>complete</td>\n",
       "      <td>7/1/2016</td>\n",
       "      <td>kcc_krone deal</td>\n",
       "      <td>360.0</td>\n",
       "      <td>1.0</td>\n",
       "      <td>60.0</td>\n",
       "      <td>100147446</td>\n",
       "      <td>Beauty &amp; Grooming</td>\n",
       "      <td>R-FSD-52352</td>\n",
       "      <td>...</td>\n",
       "      <td>7.0</td>\n",
       "      <td>2016-7</td>\n",
       "      <td>7-2016</td>\n",
       "      <td>FY17</td>\n",
       "      <td>4.0</td>\n",
       "      <td>NaN</td>\n",
       "      <td>NaN</td>\n",
       "      <td>NaN</td>\n",
       "      <td>NaN</td>\n",
       "      <td>NaN</td>\n",
       "    </tr>\n",
       "    <tr>\n",
       "      <th>4</th>\n",
       "      <td>211136.0</td>\n",
       "      <td>order_refunded</td>\n",
       "      <td>7/1/2016</td>\n",
       "      <td>BK7010400AG</td>\n",
       "      <td>555.0</td>\n",
       "      <td>2.0</td>\n",
       "      <td>1110.0</td>\n",
       "      <td>100147447</td>\n",
       "      <td>Soghaat</td>\n",
       "      <td>\\N</td>\n",
       "      <td>...</td>\n",
       "      <td>7.0</td>\n",
       "      <td>2016-7</td>\n",
       "      <td>7-2016</td>\n",
       "      <td>FY17</td>\n",
       "      <td>5.0</td>\n",
       "      <td>NaN</td>\n",
       "      <td>NaN</td>\n",
       "      <td>NaN</td>\n",
       "      <td>NaN</td>\n",
       "      <td>NaN</td>\n",
       "    </tr>\n",
       "  </tbody>\n",
       "</table>\n",
       "<p>5 rows × 26 columns</p>\n",
       "</div>"
      ],
      "text/plain": [
       "    item_id          status created_at  \\\n",
       "0  211131.0        complete   7/1/2016   \n",
       "1  211133.0        canceled   7/1/2016   \n",
       "2  211134.0        canceled   7/1/2016   \n",
       "3  211135.0        complete   7/1/2016   \n",
       "4  211136.0  order_refunded   7/1/2016   \n",
       "\n",
       "                                                 sku   price  qty_ordered  \\\n",
       "0                                  kreations_YI 06-L  1950.0          1.0   \n",
       "1  kcc_Buy 2 Frey Air Freshener & Get 1 Kasual Bo...   240.0          1.0   \n",
       "2                                 Ego_UP0017-999-MR0  2450.0          1.0   \n",
       "3                                     kcc_krone deal   360.0          1.0   \n",
       "4                                        BK7010400AG   555.0          2.0   \n",
       "\n",
       "   grand_total increment_id    category_name_1 sales_commission_code  \\\n",
       "0       1950.0    100147443    Women's Fashion                    \\N   \n",
       "1        240.0    100147444  Beauty & Grooming                    \\N   \n",
       "2       2450.0    100147445    Women's Fashion                    \\N   \n",
       "3         60.0    100147446  Beauty & Grooming           R-FSD-52352   \n",
       "4       1110.0    100147447            Soghaat                    \\N   \n",
       "\n",
       "      ...      Month Customer Since     M-Y    FY Customer ID  Unnamed: 21  \\\n",
       "0     ...        7.0         2016-7  7-2016  FY17         1.0          NaN   \n",
       "1     ...        7.0         2016-7  7-2016  FY17         2.0          NaN   \n",
       "2     ...        7.0         2016-7  7-2016  FY17         3.0          NaN   \n",
       "3     ...        7.0         2016-7  7-2016  FY17         4.0          NaN   \n",
       "4     ...        7.0         2016-7  7-2016  FY17         5.0          NaN   \n",
       "\n",
       "   Unnamed: 22 Unnamed: 23 Unnamed: 24 Unnamed: 25  \n",
       "0          NaN         NaN         NaN         NaN  \n",
       "1          NaN         NaN         NaN         NaN  \n",
       "2          NaN         NaN         NaN         NaN  \n",
       "3          NaN         NaN         NaN         NaN  \n",
       "4          NaN         NaN         NaN         NaN  \n",
       "\n",
       "[5 rows x 26 columns]"
      ]
     },
     "execution_count": 3,
     "metadata": {},
     "output_type": "execute_result"
    }
   ],
   "source": [
    "\n",
    "df = pd.read_csv ('Pakistan Largest Ecommerce Dataset.csv')\n",
    "dfAllExceptions = pd.DataFrame()\n",
    "df.head()\n"
   ]
  },
  {
   "cell_type": "code",
   "execution_count": 4,
   "metadata": {},
   "outputs": [
    {
     "name": "stdout",
     "output_type": "stream",
     "text": [
      "<class 'pandas.core.frame.DataFrame'>\n",
      "RangeIndex: 1048575 entries, 0 to 1048574\n",
      "Data columns (total 26 columns):\n",
      "item_id                  584524 non-null float64\n",
      "status                   584509 non-null object\n",
      "created_at               584524 non-null object\n",
      "sku                      584504 non-null object\n",
      "price                    584524 non-null float64\n",
      "qty_ordered              584524 non-null float64\n",
      "grand_total              584524 non-null float64\n",
      "increment_id             584524 non-null object\n",
      "category_name_1          584360 non-null object\n",
      "sales_commission_code    447349 non-null object\n",
      "discount_amount          584524 non-null float64\n",
      "payment_method           584524 non-null object\n",
      "Working Date             584524 non-null object\n",
      "BI Status                584524 non-null object\n",
      " MV                      584524 non-null object\n",
      "Year                     584524 non-null float64\n",
      "Month                    584524 non-null float64\n",
      "Customer Since           584513 non-null object\n",
      "M-Y                      584524 non-null object\n",
      "FY                       584524 non-null object\n",
      "Customer ID              584513 non-null float64\n",
      "Unnamed: 21              0 non-null float64\n",
      "Unnamed: 22              0 non-null float64\n",
      "Unnamed: 23              0 non-null float64\n",
      "Unnamed: 24              0 non-null float64\n",
      "Unnamed: 25              0 non-null float64\n",
      "dtypes: float64(13), object(13)\n",
      "memory usage: 208.0+ MB\n"
     ]
    }
   ],
   "source": [
    "#Understanding the file/data structure\n",
    "df.info()"
   ]
  },
  {
   "cell_type": "code",
   "execution_count": 5,
   "metadata": {},
   "outputs": [
    {
     "data": {
      "text/plain": [
       "item_id                   464051\n",
       "status                    464066\n",
       "created_at                464051\n",
       "sku                       464071\n",
       "price                     464051\n",
       "qty_ordered               464051\n",
       "grand_total               464051\n",
       "increment_id              464051\n",
       "category_name_1           464215\n",
       "sales_commission_code     601226\n",
       "discount_amount           464051\n",
       "payment_method            464051\n",
       "Working Date              464051\n",
       "BI Status                 464051\n",
       " MV                       464051\n",
       "Year                      464051\n",
       "Month                     464051\n",
       "Customer Since            464062\n",
       "M-Y                       464051\n",
       "FY                        464051\n",
       "Customer ID               464062\n",
       "Unnamed: 21              1048575\n",
       "Unnamed: 22              1048575\n",
       "Unnamed: 23              1048575\n",
       "Unnamed: 24              1048575\n",
       "Unnamed: 25              1048575\n",
       "dtype: int64"
      ]
     },
     "execution_count": 5,
     "metadata": {},
     "output_type": "execute_result"
    }
   ],
   "source": [
    "df.isnull().sum()"
   ]
  },
  {
   "cell_type": "code",
   "execution_count": 6,
   "metadata": {},
   "outputs": [
    {
     "name": "stdout",
     "output_type": "stream",
     "text": [
      "status                       16\n",
      "created_at                  789\n",
      "sku                       84889\n",
      "increment_id             408785\n",
      "category_name_1              16\n",
      "sales_commission_code      7226\n",
      "payment_method               18\n",
      "Working Date                789\n",
      "BI Status                     4\n",
      " MV                        9720\n",
      "Customer Since               26\n",
      "M-Y                          26\n",
      "FY                            3\n",
      "dtype: int64\n"
     ]
    }
   ],
   "source": [
    "#analyse to have a better the categorical columns\n",
    "cat_col = df.select_dtypes(include=['object'])\n",
    "values = cat_col.nunique()\n",
    "print(values)"
   ]
  },
  {
   "cell_type": "code",
   "execution_count": 7,
   "metadata": {},
   "outputs": [
    {
     "name": "stdout",
     "output_type": "stream",
     "text": [
      "Feature:  status\n",
      "Feature Values:  ['complete' 'canceled' 'order_refunded' 'received' 'refund' 'closed'\n",
      " 'fraud' 'holded' 'exchange' 'pending_paypal' 'paid' '\\\\N' 'cod' 'pending'\n",
      " nan 'processing' 'payment_review']\n",
      "---------------------------\n",
      "Feature:  created_at\n",
      "Feature with too many unique values, displaying Counts only:  789\n",
      "---------------------------\n",
      "Feature:  sku\n",
      "Feature with too many unique values, displaying Counts only:  84889\n",
      "---------------------------\n",
      "Feature:  increment_id\n",
      "Feature with too many unique values, displaying Counts only:  408785\n",
      "---------------------------\n",
      "Feature:  category_name_1\n",
      "Feature Values:  [\"Women's Fashion\" 'Beauty & Grooming' 'Soghaat' 'Mobiles & Tablets'\n",
      " 'Appliances' 'Home & Living' \"Men's Fashion\" 'Kids & Baby' '\\\\N' 'Others'\n",
      " 'Entertainment' 'Computing' 'Superstore' 'Health & Sports' 'Books'\n",
      " 'School & Education' nan]\n",
      "---------------------------\n",
      "Feature:  sales_commission_code\n",
      "Feature with too many unique values, displaying Counts only:  7226\n",
      "---------------------------\n",
      "Feature:  payment_method\n",
      "Feature Values:  ['cod' 'ublcreditcard' 'mygateway' 'customercredit' 'cashatdoorstep'\n",
      " 'mcblite' 'internetbanking' 'marketingexpense' 'productcredit'\n",
      " 'financesettlement' 'Payaxis' 'jazzvoucher' 'jazzwallet' 'Easypay'\n",
      " 'Easypay_MA' 'easypay_voucher' 'bankalfalah' 'apg' nan]\n",
      "---------------------------\n",
      "Feature:  Working Date\n",
      "Feature with too many unique values, displaying Counts only:  789\n",
      "---------------------------\n",
      "Feature:  BI Status\n",
      "Feature Values:  ['#REF!' 'Gross' 'Net' 'Valid' nan]\n",
      "---------------------------\n",
      "Feature:   MV \n",
      "Feature with too many unique values, displaying Counts only:  9720\n",
      "---------------------------\n",
      "Feature:  Customer Since\n",
      "Feature Values:  ['2016-7' '2016-8' '2016-9' '2016-10' '2016-11' '2016-12' '2017-1'\n",
      " '2017-2' '2017-3' '2017-4' '2017-5' '2017-6' '2017-7' '2017-8' '2017-9'\n",
      " '2017-10' '2017-11' '2017-12' '2018-1' nan '2018-2' '2018-3' '2018-4'\n",
      " '2018-5' '2018-6' '2018-7' '2018-8']\n",
      "---------------------------\n",
      "Feature:  M-Y\n",
      "Feature Values:  ['7-2016' '8-2016' '9-2016' '10-2016' '11-2016' '12-2016' '1-2017'\n",
      " '2-2017' '3-2017' '4-2017' '5-2017' '6-2017' '7-2017' '8-2017' '9-2017'\n",
      " '10-2017' '11-2017' '12-2017' '2-2018' '1-2018' '3-2018' '4-2018'\n",
      " '5-2018' '6-2018' '7-2018' '8-2018' nan]\n",
      "---------------------------\n",
      "Feature:  FY\n",
      "Feature Values:  ['FY17' 'FY18' 'FY19' nan]\n",
      "---------------------------\n"
     ]
    }
   ],
   "source": [
    "#Showing the unique values in the column if there are within a certain viewable # e.g. 30\n",
    "for column in cat_col:\n",
    "    if df[column].nunique() < 30:\n",
    "        print('Feature: ', column)\n",
    "        print('Feature Values: ', df[column].unique())\n",
    "    else:\n",
    "        print('Feature: ', column)\n",
    "        print('Feature with too many unique values, displaying Counts only: ', df[column].nunique())\n",
    "    print('---------------------------')\n",
    "        \n",
    "        "
   ]
  },
  {
   "cell_type": "code",
   "execution_count": 8,
   "metadata": {},
   "outputs": [],
   "source": [
    "\n",
    "#Cleansing starts here\n",
    "#Removing the empty columns with no headers\n",
    "df.drop(df.filter(regex=\"Unname\"),axis=1, inplace=True)"
   ]
  },
  {
   "cell_type": "code",
   "execution_count": 9,
   "metadata": {},
   "outputs": [
    {
     "name": "stdout",
     "output_type": "stream",
     "text": [
      "Before Cleansing # of rows  (1048575, 21)\n"
     ]
    }
   ],
   "source": [
    "df.head()\n",
    "print(\"Before Cleansing # of rows \",df.shape)"
   ]
  },
  {
   "cell_type": "code",
   "execution_count": 10,
   "metadata": {},
   "outputs": [
    {
     "name": "stdout",
     "output_type": "stream",
     "text": [
      "After Cleansing empty # rows at the end of the file  (584524, 21)\n"
     ]
    }
   ],
   "source": [
    "#Remove empty rows at the end of the file\n",
    "df=df.dropna(how='all')\n",
    "print(\"After Cleansing empty # rows at the end of the file \",df.shape)"
   ]
  },
  {
   "cell_type": "code",
   "execution_count": 11,
   "metadata": {},
   "outputs": [],
   "source": [
    "#Dropping those with empty category_name_1\n",
    "filter = df[\"category_name_1\"].isnull() \n",
    "dfexception_cat_name = pd.DataFrame()\n",
    "dfexception_cat_name = df[filter].copy()\n",
    "dfexception_cat_name[\"Exception\"] = ExceptionMsg(\"category_name_1\",\"Empty Field\") \n",
    "\n"
   ]
  },
  {
   "cell_type": "code",
   "execution_count": 12,
   "metadata": {},
   "outputs": [
    {
     "name": "stdout",
     "output_type": "stream",
     "text": [
      "After Cleansing category_name_1 which are empty  (584360, 21)\n"
     ]
    }
   ],
   "source": [
    "df=df.dropna(subset=[\"category_name_1\"])\n",
    "print(\"After Cleansing category_name_1 which are empty \",df.shape)\n"
   ]
  },
  {
   "cell_type": "code",
   "execution_count": 13,
   "metadata": {},
   "outputs": [],
   "source": [
    "#Dropping those with empty Customer ID\n",
    "filter = df[\"Customer ID\"].isnull() \n",
    "dfexception_cust_id = pd.DataFrame()\n",
    "dfexception_cust_id = df[filter].copy()\n",
    "dfexception_cust_id[\"Exception\"] = ExceptionMsg(\"Customer ID\",\"Empty Field\") "
   ]
  },
  {
   "cell_type": "code",
   "execution_count": 14,
   "metadata": {},
   "outputs": [
    {
     "name": "stdout",
     "output_type": "stream",
     "text": [
      "After Cleansing Customer ID which are empty  (584349, 21)\n"
     ]
    }
   ],
   "source": [
    "df=df.dropna(subset=[\"Customer ID\"])\n",
    "print(\"After Cleansing Customer ID which are empty \",df.shape)"
   ]
  },
  {
   "cell_type": "code",
   "execution_count": 15,
   "metadata": {},
   "outputs": [],
   "source": [
    "#Dropping those with empty status\n",
    "filter = df[\"status\"].isnull() \n",
    "dfexception_status = df[filter].copy()\n",
    "dfexception_status[\"Exception\"] = ExceptionMsg(\"status\",\"Empty Field\")"
   ]
  },
  {
   "cell_type": "code",
   "execution_count": 16,
   "metadata": {},
   "outputs": [
    {
     "name": "stdout",
     "output_type": "stream",
     "text": [
      "After Cleansing status which are empty  (584334, 21)\n"
     ]
    }
   ],
   "source": [
    "#Dropping those with empty status\n",
    "df=df.dropna(subset=[\"status\"])\n",
    "print(\"After Cleansing status which are empty \",df.shape)"
   ]
  },
  {
   "cell_type": "code",
   "execution_count": 17,
   "metadata": {},
   "outputs": [],
   "source": [
    "#Filter category_name_1!=\"/N\" \n",
    "keep = df[\"category_name_1\"] != \"\\\\N\" \n",
    "filter = df[\"category_name_1\"] == \"\\\\N\" \n",
    "dfexception_cat_name_2 = df[filter].copy()\n",
    "dfexception_cat_name_2[\"Exception\"] = ExceptionMsg(\"category_name_1\",\"Invalid Content \\\\N\")\n",
    "#print(dfexception_cat_name_2.shape)  "
   ]
  },
  {
   "cell_type": "code",
   "execution_count": 18,
   "metadata": {},
   "outputs": [
    {
     "name": "stdout",
     "output_type": "stream",
     "text": [
      "After Cleansing category_name_1 which='\\N' rows  (576484, 21)\n"
     ]
    }
   ],
   "source": [
    "df= df[keep]\n",
    "print(\"After Cleansing category_name_1 which='\\\\N' rows \",df.shape)"
   ]
  },
  {
   "cell_type": "code",
   "execution_count": 19,
   "metadata": {},
   "outputs": [],
   "source": [
    "#Filter BI Status == #REF! \n",
    "keep = df[\"BI Status\"] != \"#REF!\"\n",
    "filter = df[\"BI Status\"] == \"#REF!\"\n",
    "dfexception_bi_status = df[filter].copy()\n",
    "dfexception_bi_status[\"Exception\"] = ExceptionMsg(\"BI Status\",\"Invalid Content #REF!\")\n",
    "#print(dfexception_bi_status.shape)  "
   ]
  },
  {
   "cell_type": "code",
   "execution_count": 20,
   "metadata": {},
   "outputs": [
    {
     "name": "stdout",
     "output_type": "stream",
     "text": [
      "After Cleansing BI Status= #REF! rows  (576483, 21)\n"
     ]
    }
   ],
   "source": [
    "df= df[keep]\n",
    "print(\"After Cleansing BI Status= #REF! rows \",df.shape)"
   ]
  },
  {
   "cell_type": "code",
   "execution_count": 21,
   "metadata": {},
   "outputs": [],
   "source": [
    "#print(df.columns)"
   ]
  },
  {
   "cell_type": "code",
   "execution_count": 22,
   "metadata": {},
   "outputs": [],
   "source": [
    "#Filter MV =\" -   \" \n",
    "keep = df[\" MV \"] != \" -   \"\n",
    "filter = df[\" MV \"] == \" -   \"\n",
    "dfexception_mv = df[filter].copy()\n",
    "dfexception_mv[\"Exception\"] = ExceptionMsg(\"MV\",\"Invalid Content - \")\n",
    "#print(dfexception_mv.shape)  "
   ]
  },
  {
   "cell_type": "code",
   "execution_count": 23,
   "metadata": {},
   "outputs": [
    {
     "name": "stdout",
     "output_type": "stream",
     "text": [
      "After Cleansing MV = - rows  (574280, 21)\n"
     ]
    }
   ],
   "source": [
    "df= df[keep]\n",
    "print(\"After Cleansing MV = - rows \",df.shape)"
   ]
  },
  {
   "cell_type": "code",
   "execution_count": 24,
   "metadata": {},
   "outputs": [],
   "source": [
    "is_numeric_dtype(df[\" MV \"])\n",
    "df[\"MV\"]=df[\" MV \"]\n",
    "#df.drop(\" MV \")\n",
    "#print(df)\n",
    "\n"
   ]
  },
  {
   "cell_type": "code",
   "execution_count": 25,
   "metadata": {},
   "outputs": [],
   "source": [
    "#df[df.MV.apply(lambda x: x.isnumeric())]\n",
    "#print(\"After Cleansing MV = - rows \",df.shape)\n",
    "#print(df.columns)"
   ]
  },
  {
   "cell_type": "code",
   "execution_count": 26,
   "metadata": {},
   "outputs": [],
   "source": [
    "#Cleansing the empty spaces and removing the thousand separators\n",
    "df[\"MV\"]=df[\"MV\"].str.strip()\n",
    "df[\"MV\"]=df[\"MV\"].str.replace(\",\",\"\")"
   ]
  },
  {
   "cell_type": "code",
   "execution_count": 27,
   "metadata": {},
   "outputs": [],
   "source": [
    "#print(\"After Cleansing MV = - rows \",df.shape)"
   ]
  },
  {
   "cell_type": "code",
   "execution_count": 28,
   "metadata": {},
   "outputs": [],
   "source": [
    "#Conversion to integer\n",
    "df[\"MV\"] = df[\"MV\"].apply(lambda x: float(x))\n",
    "df[\"price\"] = df[\"price\"].apply(lambda x: float(x))\n",
    "df[\"qty_ordered\"] = df[\"qty_ordered\"].apply(lambda x: int(x))\n"
   ]
  },
  {
   "cell_type": "code",
   "execution_count": 29,
   "metadata": {},
   "outputs": [],
   "source": [
    "#calculate a separate table of grand totals with increment_id as key\n",
    "#df[\"calculated_mv\"]= df.apply(lambda x: x['MV'] - x['discount_amount'], axis=1)\n",
    "df[\"calculated_mv\"]= df.apply(lambda x: x['price'] * x['qty_ordered'] - x['discount_amount'], axis=1)\n",
    "\n",
    "df_gt_by_incre=df.groupby([\"increment_id\"])[\"calculated_mv\"].sum().reset_index().rename(columns={'calculated_mv':'calculated_grandtotal'})\n",
    "\n",
    "\n"
   ]
  },
  {
   "cell_type": "code",
   "execution_count": 30,
   "metadata": {},
   "outputs": [],
   "source": [
    "#test=df_gt_by_incre[\"increment_id\"]==100148708\n",
    "#print(df_gt_by_incre[test])"
   ]
  },
  {
   "cell_type": "code",
   "execution_count": 31,
   "metadata": {},
   "outputs": [
    {
     "data": {
      "text/plain": [
       "(574280, 24)"
      ]
     },
     "execution_count": 31,
     "metadata": {},
     "output_type": "execute_result"
    }
   ],
   "source": [
    "df.shape\n",
    "df=pd.merge(df,df_gt_by_incre,on='increment_id')\n",
    "df.shape"
   ]
  },
  {
   "cell_type": "code",
   "execution_count": 32,
   "metadata": {},
   "outputs": [],
   "source": [
    "#test=df[\"increment_id\"]==100148708\n",
    "#print(df[test])"
   ]
  },
  {
   "cell_type": "code",
   "execution_count": 33,
   "metadata": {},
   "outputs": [],
   "source": [
    "#Reconciliation of grand_total Value columns\n",
    "\n",
    "df[\"recon_grandtotal\"]=df.apply(lambda x: x[\"grand_total\"] - x[\"calculated_grandtotal\"], axis=1)\n",
    "\n",
    "\n"
   ]
  },
  {
   "cell_type": "code",
   "execution_count": 34,
   "metadata": {},
   "outputs": [],
   "source": [
    "#test=df[\"recon_grandtotal\"]!=0\n",
    "#df[test].head"
   ]
  },
  {
   "cell_type": "code",
   "execution_count": 35,
   "metadata": {},
   "outputs": [
    {
     "name": "stdout",
     "output_type": "stream",
     "text": [
      "These are all that is left after the cleansing  (574280, 25)\n"
     ]
    }
   ],
   "source": [
    "print(\"These are all that is left after the cleansing \",df.shape)\n"
   ]
  },
  {
   "cell_type": "code",
   "execution_count": 36,
   "metadata": {},
   "outputs": [
    {
     "name": "stdout",
     "output_type": "stream",
     "text": [
      "These are mismatches between MV, discount and grand_total, but they should not be omitted as it might be potential bugs or fraud cases:  (129387, 25)\n",
      "These are matches between MV, discount and grand_total:  (444893, 25)\n"
     ]
    }
   ],
   "source": [
    "\n",
    "#these might be potential fraud cases, hence we may not want to destroy or cleanse these\n",
    "filtermismatch=df[\"recon_grandtotal\"] != 0\n",
    "print(\"These are mismatches between MV, discount and grand_total, but they should not be omitted as it might be potential bugs or fraud cases: \",df[filtermismatch].shape)\n",
    "\n",
    "#Export MV mismatch report File to drive\n",
    "df[filtermismatch].to_csv('data_mv_mismatch_report.csv',sep=\",\",index=False)\n",
    "\n",
    "#these are the cases that match\n",
    "filtermatch=df[\"recon_grandtotal\"] == 0\n",
    "print(\"These are matches between MV, discount and grand_total: \",df[filtermatch].shape)\n",
    "\n",
    "\n",
    "\n"
   ]
  },
  {
   "cell_type": "code",
   "execution_count": 37,
   "metadata": {},
   "outputs": [
    {
     "name": "stdout",
     "output_type": "stream",
     "text": [
      "Before export this is all that's left after the cleansing  (574280, 25)\n"
     ]
    }
   ],
   "source": [
    "#Export Cleanse File to drive\n",
    "print(\"Before export this is all that's left after the cleansing \",df.shape)\n",
    "df.to_csv('data_cleansed.csv',sep=\",\",index=False)"
   ]
  },
  {
   "cell_type": "code",
   "execution_count": 38,
   "metadata": {},
   "outputs": [],
   "source": [
    "#Preparing Exception Report\n",
    "frames = [dfexception_cat_name,dfexception_cust_id,dfexception_status,dfexception_cat_name_2,dfexception_bi_status,dfexception_mv]\n",
    "dfAllExceptions=pd.concat(frames)"
   ]
  },
  {
   "cell_type": "code",
   "execution_count": 39,
   "metadata": {},
   "outputs": [
    {
     "name": "stdout",
     "output_type": "stream",
     "text": [
      "Compiling Exceptions, Total Exceptions  (10244, 22)\n"
     ]
    },
    {
     "data": {
      "text/html": [
       "<div>\n",
       "<style scoped>\n",
       "    .dataframe tbody tr th:only-of-type {\n",
       "        vertical-align: middle;\n",
       "    }\n",
       "\n",
       "    .dataframe tbody tr th {\n",
       "        vertical-align: top;\n",
       "    }\n",
       "\n",
       "    .dataframe thead th {\n",
       "        text-align: right;\n",
       "    }\n",
       "</style>\n",
       "<table border=\"1\" class=\"dataframe\">\n",
       "  <thead>\n",
       "    <tr style=\"text-align: right;\">\n",
       "      <th></th>\n",
       "      <th>item_id</th>\n",
       "      <th>status</th>\n",
       "      <th>created_at</th>\n",
       "      <th>sku</th>\n",
       "      <th>price</th>\n",
       "      <th>qty_ordered</th>\n",
       "      <th>grand_total</th>\n",
       "      <th>increment_id</th>\n",
       "      <th>category_name_1</th>\n",
       "      <th>sales_commission_code</th>\n",
       "      <th>...</th>\n",
       "      <th>Working Date</th>\n",
       "      <th>BI Status</th>\n",
       "      <th>MV</th>\n",
       "      <th>Year</th>\n",
       "      <th>Month</th>\n",
       "      <th>Customer Since</th>\n",
       "      <th>M-Y</th>\n",
       "      <th>FY</th>\n",
       "      <th>Customer ID</th>\n",
       "      <th>Exception</th>\n",
       "    </tr>\n",
       "  </thead>\n",
       "  <tbody>\n",
       "    <tr>\n",
       "      <th>425895</th>\n",
       "      <td>725194.0</td>\n",
       "      <td>order_refunded</td>\n",
       "      <td>1/2/2018</td>\n",
       "      <td>MEFQMO59B0942707B79-L</td>\n",
       "      <td>99.0</td>\n",
       "      <td>2.0</td>\n",
       "      <td>2.0</td>\n",
       "      <td>100442474</td>\n",
       "      <td>NaN</td>\n",
       "      <td>NaN</td>\n",
       "      <td>...</td>\n",
       "      <td>1/2/2018</td>\n",
       "      <td>Valid</td>\n",
       "      <td>198</td>\n",
       "      <td>2018.0</td>\n",
       "      <td>1.0</td>\n",
       "      <td>2017-8</td>\n",
       "      <td>1-2018</td>\n",
       "      <td>FY18</td>\n",
       "      <td>59587.0</td>\n",
       "      <td>Exception for category_name_1 - Empty Field</td>\n",
       "    </tr>\n",
       "    <tr>\n",
       "      <th>431194</th>\n",
       "      <td>731122.0</td>\n",
       "      <td>received</td>\n",
       "      <td>1/15/2018</td>\n",
       "      <td>MEFQMO59B0942707B79-M</td>\n",
       "      <td>99.0</td>\n",
       "      <td>1.0</td>\n",
       "      <td>249.0</td>\n",
       "      <td>100445690</td>\n",
       "      <td>NaN</td>\n",
       "      <td>NaN</td>\n",
       "      <td>...</td>\n",
       "      <td>1/15/2018</td>\n",
       "      <td>Valid</td>\n",
       "      <td>99</td>\n",
       "      <td>2018.0</td>\n",
       "      <td>1.0</td>\n",
       "      <td>2017-8</td>\n",
       "      <td>1-2018</td>\n",
       "      <td>FY18</td>\n",
       "      <td>59587.0</td>\n",
       "      <td>Exception for category_name_1 - Empty Field</td>\n",
       "    </tr>\n",
       "    <tr>\n",
       "      <th>432492</th>\n",
       "      <td>732569.0</td>\n",
       "      <td>canceled</td>\n",
       "      <td>1/19/2018</td>\n",
       "      <td>MEFQMO59B0942707B79-M</td>\n",
       "      <td>99.0</td>\n",
       "      <td>1.0</td>\n",
       "      <td>249.0</td>\n",
       "      <td>100446481</td>\n",
       "      <td>NaN</td>\n",
       "      <td>NaN</td>\n",
       "      <td>...</td>\n",
       "      <td>1/19/2018</td>\n",
       "      <td>Gross</td>\n",
       "      <td>99</td>\n",
       "      <td>2018.0</td>\n",
       "      <td>1.0</td>\n",
       "      <td>2017-3</td>\n",
       "      <td>1-2018</td>\n",
       "      <td>FY18</td>\n",
       "      <td>37311.0</td>\n",
       "      <td>Exception for category_name_1 - Empty Field</td>\n",
       "    </tr>\n",
       "    <tr>\n",
       "      <th>432494</th>\n",
       "      <td>732572.0</td>\n",
       "      <td>canceled</td>\n",
       "      <td>1/19/2018</td>\n",
       "      <td>MEFQMO59B0942707B79-M</td>\n",
       "      <td>99.0</td>\n",
       "      <td>1.0</td>\n",
       "      <td>249.0</td>\n",
       "      <td>100446483</td>\n",
       "      <td>NaN</td>\n",
       "      <td>NaN</td>\n",
       "      <td>...</td>\n",
       "      <td>1/19/2018</td>\n",
       "      <td>Gross</td>\n",
       "      <td>99</td>\n",
       "      <td>2018.0</td>\n",
       "      <td>1.0</td>\n",
       "      <td>2017-3</td>\n",
       "      <td>1-2018</td>\n",
       "      <td>FY18</td>\n",
       "      <td>37311.0</td>\n",
       "      <td>Exception for category_name_1 - Empty Field</td>\n",
       "    </tr>\n",
       "    <tr>\n",
       "      <th>432496</th>\n",
       "      <td>732575.0</td>\n",
       "      <td>order_refunded</td>\n",
       "      <td>1/19/2018</td>\n",
       "      <td>MEFQMO59B0942707B79-M</td>\n",
       "      <td>99.0</td>\n",
       "      <td>1.0</td>\n",
       "      <td>249.0</td>\n",
       "      <td>100446485</td>\n",
       "      <td>NaN</td>\n",
       "      <td>NaN</td>\n",
       "      <td>...</td>\n",
       "      <td>1/19/2018</td>\n",
       "      <td>Valid</td>\n",
       "      <td>99</td>\n",
       "      <td>2018.0</td>\n",
       "      <td>1.0</td>\n",
       "      <td>2018-1</td>\n",
       "      <td>1-2018</td>\n",
       "      <td>FY18</td>\n",
       "      <td>85633.0</td>\n",
       "      <td>Exception for category_name_1 - Empty Field</td>\n",
       "    </tr>\n",
       "  </tbody>\n",
       "</table>\n",
       "<p>5 rows × 22 columns</p>\n",
       "</div>"
      ],
      "text/plain": [
       "         item_id          status created_at                    sku  price  \\\n",
       "425895  725194.0  order_refunded   1/2/2018  MEFQMO59B0942707B79-L   99.0   \n",
       "431194  731122.0        received  1/15/2018  MEFQMO59B0942707B79-M   99.0   \n",
       "432492  732569.0        canceled  1/19/2018  MEFQMO59B0942707B79-M   99.0   \n",
       "432494  732572.0        canceled  1/19/2018  MEFQMO59B0942707B79-M   99.0   \n",
       "432496  732575.0  order_refunded  1/19/2018  MEFQMO59B0942707B79-M   99.0   \n",
       "\n",
       "        qty_ordered  grand_total increment_id category_name_1  \\\n",
       "425895          2.0          2.0    100442474             NaN   \n",
       "431194          1.0        249.0    100445690             NaN   \n",
       "432492          1.0        249.0    100446481             NaN   \n",
       "432494          1.0        249.0    100446483             NaN   \n",
       "432496          1.0        249.0    100446485             NaN   \n",
       "\n",
       "       sales_commission_code                     ...                       \\\n",
       "425895                   NaN                     ...                        \n",
       "431194                   NaN                     ...                        \n",
       "432492                   NaN                     ...                        \n",
       "432494                   NaN                     ...                        \n",
       "432496                   NaN                     ...                        \n",
       "\n",
       "        Working Date BI Status    MV     Year Month  Customer Since     M-Y  \\\n",
       "425895      1/2/2018     Valid   198   2018.0   1.0          2017-8  1-2018   \n",
       "431194     1/15/2018     Valid    99   2018.0   1.0          2017-8  1-2018   \n",
       "432492     1/19/2018     Gross    99   2018.0   1.0          2017-3  1-2018   \n",
       "432494     1/19/2018     Gross    99   2018.0   1.0          2017-3  1-2018   \n",
       "432496     1/19/2018     Valid    99   2018.0   1.0          2018-1  1-2018   \n",
       "\n",
       "          FY Customer ID                                    Exception  \n",
       "425895  FY18     59587.0  Exception for category_name_1 - Empty Field  \n",
       "431194  FY18     59587.0  Exception for category_name_1 - Empty Field  \n",
       "432492  FY18     37311.0  Exception for category_name_1 - Empty Field  \n",
       "432494  FY18     37311.0  Exception for category_name_1 - Empty Field  \n",
       "432496  FY18     85633.0  Exception for category_name_1 - Empty Field  \n",
       "\n",
       "[5 rows x 22 columns]"
      ]
     },
     "execution_count": 39,
     "metadata": {},
     "output_type": "execute_result"
    }
   ],
   "source": [
    "print(\"Compiling Exceptions, Total Exceptions \",dfAllExceptions.shape)\n",
    "dfAllExceptions.to_csv('Exception_Report.csv',sep=\",\",index=False)\n",
    "dfAllExceptions.head()"
   ]
  },
  {
   "cell_type": "code",
   "execution_count": 40,
   "metadata": {},
   "outputs": [
    {
     "name": "stdout",
     "output_type": "stream",
     "text": [
      "<class 'pandas.core.frame.DataFrame'>\n",
      "Int64Index: 10244 entries, 425895 to 584271\n",
      "Data columns (total 22 columns):\n",
      "item_id                  10244 non-null float64\n",
      "status                   10229 non-null object\n",
      "created_at               10244 non-null object\n",
      "sku                      10227 non-null object\n",
      "price                    10244 non-null float64\n",
      "qty_ordered              10244 non-null float64\n",
      "grand_total              10244 non-null float64\n",
      "increment_id             10244 non-null object\n",
      "category_name_1          10080 non-null object\n",
      "sales_commission_code    9228 non-null object\n",
      "discount_amount          10244 non-null float64\n",
      "payment_method           10244 non-null object\n",
      "Working Date             10244 non-null object\n",
      "BI Status                10244 non-null object\n",
      " MV                      10244 non-null object\n",
      "Year                     10244 non-null float64\n",
      "Month                    10244 non-null float64\n",
      "Customer Since           10233 non-null object\n",
      "M-Y                      10244 non-null object\n",
      "FY                       10244 non-null object\n",
      "Customer ID              10233 non-null float64\n",
      "Exception                10244 non-null object\n",
      "dtypes: float64(8), object(14)\n",
      "memory usage: 1.8+ MB\n"
     ]
    }
   ],
   "source": [
    "dfAllExceptions.info()"
   ]
  },
  {
   "cell_type": "code",
   "execution_count": 45,
   "metadata": {},
   "outputs": [],
   "source": [
    "#print(dfExc)\n",
    "dfAllExceptions[\"Y-M\"]= pd.to_datetime(dfAllExceptions['Working Date'])\n",
    "#dfAllExceptions.info()\n"
   ]
  },
  {
   "cell_type": "code",
   "execution_count": 46,
   "metadata": {},
   "outputs": [],
   "source": [
    "dfAllExceptions['Y-M']=dfAllExceptions['Y-M'].dt.strftime(\"%Y-%m\")"
   ]
  },
  {
   "cell_type": "code",
   "execution_count": 47,
   "metadata": {},
   "outputs": [],
   "source": [
    "dfExcHM=dfAllExceptions.groupby([\"Exception\",\"Y-M\"]).size().reset_index(name='Count')\n"
   ]
  },
  {
   "cell_type": "code",
   "execution_count": 48,
   "metadata": {},
   "outputs": [
    {
     "name": "stdout",
     "output_type": "stream",
     "text": [
      "                                            Exception      Y-M  Count\n",
      "0     Exception for BI Status - Invalid Content #REF!  2016-07      1\n",
      "1             Exception for Customer ID - Empty Field  2018-01      4\n",
      "2             Exception for Customer ID - Empty Field  2018-03      7\n",
      "3               Exception for MV - Invalid Content -   2016-07     11\n",
      "4               Exception for MV - Invalid Content -   2016-08     10\n",
      "5               Exception for MV - Invalid Content -   2016-10      2\n",
      "6               Exception for MV - Invalid Content -   2016-11     46\n",
      "7               Exception for MV - Invalid Content -   2016-12     24\n",
      "8               Exception for MV - Invalid Content -   2017-01     23\n",
      "9               Exception for MV - Invalid Content -   2017-05     85\n",
      "10              Exception for MV - Invalid Content -   2017-06    341\n",
      "11              Exception for MV - Invalid Content -   2017-07     75\n",
      "12              Exception for MV - Invalid Content -   2017-08     12\n",
      "13              Exception for MV - Invalid Content -   2017-09    165\n",
      "14              Exception for MV - Invalid Content -   2017-10     88\n",
      "15              Exception for MV - Invalid Content -   2017-11    199\n",
      "16              Exception for MV - Invalid Content -   2017-12    207\n",
      "17              Exception for MV - Invalid Content -   2018-01    166\n",
      "18              Exception for MV - Invalid Content -   2018-02     76\n",
      "19              Exception for MV - Invalid Content -   2018-03    187\n",
      "20              Exception for MV - Invalid Content -   2018-04    250\n",
      "21              Exception for MV - Invalid Content -   2018-05    116\n",
      "22              Exception for MV - Invalid Content -   2018-06     83\n",
      "23              Exception for MV - Invalid Content -   2018-07     15\n",
      "24              Exception for MV - Invalid Content -   2018-08     22\n",
      "25        Exception for category_name_1 - Empty Field  2018-01     13\n",
      "26        Exception for category_name_1 - Empty Field  2018-02     13\n",
      "27        Exception for category_name_1 - Empty Field  2018-03      5\n",
      "28        Exception for category_name_1 - Empty Field  2018-04    100\n",
      "29        Exception for category_name_1 - Empty Field  2018-05     30\n",
      "30        Exception for category_name_1 - Empty Field  2018-06      1\n",
      "31        Exception for category_name_1 - Empty Field  2018-07      1\n",
      "32        Exception for category_name_1 - Empty Field  2018-08      1\n",
      "33  Exception for category_name_1 - Invalid Conten...  2016-07    731\n",
      "34  Exception for category_name_1 - Invalid Conten...  2016-08    178\n",
      "35  Exception for category_name_1 - Invalid Conten...  2016-09   1011\n",
      "36  Exception for category_name_1 - Invalid Conten...  2016-10    808\n",
      "37  Exception for category_name_1 - Invalid Conten...  2016-11   2815\n",
      "38  Exception for category_name_1 - Invalid Conten...  2016-12    285\n",
      "39  Exception for category_name_1 - Invalid Conten...  2017-01    343\n",
      "40  Exception for category_name_1 - Invalid Conten...  2017-02    203\n",
      "41  Exception for category_name_1 - Invalid Conten...  2017-03    227\n",
      "42  Exception for category_name_1 - Invalid Conten...  2017-04    179\n",
      "43  Exception for category_name_1 - Invalid Conten...  2017-05    322\n",
      "44  Exception for category_name_1 - Invalid Conten...  2017-06    268\n",
      "45  Exception for category_name_1 - Invalid Conten...  2017-07    156\n",
      "46  Exception for category_name_1 - Invalid Conten...  2017-08    200\n",
      "47  Exception for category_name_1 - Invalid Conten...  2017-09      8\n",
      "48  Exception for category_name_1 - Invalid Conten...  2017-10      3\n",
      "49  Exception for category_name_1 - Invalid Conten...  2017-11     99\n",
      "50  Exception for category_name_1 - Invalid Conten...  2017-12     14\n",
      "51                 Exception for status - Empty Field  2018-03      1\n",
      "52                 Exception for status - Empty Field  2018-04      6\n",
      "53                 Exception for status - Empty Field  2018-05      2\n",
      "54                 Exception for status - Empty Field  2018-06      2\n",
      "55                 Exception for status - Empty Field  2018-07      4\n"
     ]
    }
   ],
   "source": [
    "print(dfExcHM)"
   ]
  },
  {
   "cell_type": "code",
   "execution_count": 49,
   "metadata": {},
   "outputs": [],
   "source": [
    "dfExcHM=pd.pivot_table(dfExcHM, values='Count', \n",
    "                     index=['Exception'], \n",
    "                     columns='Y-M')\n",
    "dfExcHM=dfExcHM.fillna(0)"
   ]
  },
  {
   "cell_type": "code",
   "execution_count": 50,
   "metadata": {
    "scrolled": false
   },
   "outputs": [
    {
     "name": "stdout",
     "output_type": "stream",
     "text": [
      "Y-M                                                 2016-07  2016-08  2016-09  \\\n",
      "Exception                                                                       \n",
      "Exception for BI Status - Invalid Content #REF!         1.0      0.0      0.0   \n",
      "Exception for Customer ID - Empty Field                 0.0      0.0      0.0   \n",
      "Exception for MV - Invalid Content -                   11.0     10.0      0.0   \n",
      "Exception for category_name_1 - Empty Field             0.0      0.0      0.0   \n",
      "Exception for category_name_1 - Invalid Content \\N    731.0    178.0   1011.0   \n",
      "Exception for status - Empty Field                      0.0      0.0      0.0   \n",
      "\n",
      "Y-M                                                 2016-10  2016-11  2016-12  \\\n",
      "Exception                                                                       \n",
      "Exception for BI Status - Invalid Content #REF!         0.0      0.0      0.0   \n",
      "Exception for Customer ID - Empty Field                 0.0      0.0      0.0   \n",
      "Exception for MV - Invalid Content -                    2.0     46.0     24.0   \n",
      "Exception for category_name_1 - Empty Field             0.0      0.0      0.0   \n",
      "Exception for category_name_1 - Invalid Content \\N    808.0   2815.0    285.0   \n",
      "Exception for status - Empty Field                      0.0      0.0      0.0   \n",
      "\n",
      "Y-M                                                 2017-01  2017-02  2017-03  \\\n",
      "Exception                                                                       \n",
      "Exception for BI Status - Invalid Content #REF!         0.0      0.0      0.0   \n",
      "Exception for Customer ID - Empty Field                 0.0      0.0      0.0   \n",
      "Exception for MV - Invalid Content -                   23.0      0.0      0.0   \n",
      "Exception for category_name_1 - Empty Field             0.0      0.0      0.0   \n",
      "Exception for category_name_1 - Invalid Content \\N    343.0    203.0    227.0   \n",
      "Exception for status - Empty Field                      0.0      0.0      0.0   \n",
      "\n",
      "Y-M                                                 2017-04   ...     2017-11  \\\n",
      "Exception                                                     ...               \n",
      "Exception for BI Status - Invalid Content #REF!         0.0   ...         0.0   \n",
      "Exception for Customer ID - Empty Field                 0.0   ...         0.0   \n",
      "Exception for MV - Invalid Content -                    0.0   ...       199.0   \n",
      "Exception for category_name_1 - Empty Field             0.0   ...         0.0   \n",
      "Exception for category_name_1 - Invalid Content \\N    179.0   ...        99.0   \n",
      "Exception for status - Empty Field                      0.0   ...         0.0   \n",
      "\n",
      "Y-M                                                 2017-12  2018-01  2018-02  \\\n",
      "Exception                                                                       \n",
      "Exception for BI Status - Invalid Content #REF!         0.0      0.0      0.0   \n",
      "Exception for Customer ID - Empty Field                 0.0      4.0      0.0   \n",
      "Exception for MV - Invalid Content -                  207.0    166.0     76.0   \n",
      "Exception for category_name_1 - Empty Field             0.0     13.0     13.0   \n",
      "Exception for category_name_1 - Invalid Content \\N     14.0      0.0      0.0   \n",
      "Exception for status - Empty Field                      0.0      0.0      0.0   \n",
      "\n",
      "Y-M                                                 2018-03  2018-04  2018-05  \\\n",
      "Exception                                                                       \n",
      "Exception for BI Status - Invalid Content #REF!         0.0      0.0      0.0   \n",
      "Exception for Customer ID - Empty Field                 7.0      0.0      0.0   \n",
      "Exception for MV - Invalid Content -                  187.0    250.0    116.0   \n",
      "Exception for category_name_1 - Empty Field             5.0    100.0     30.0   \n",
      "Exception for category_name_1 - Invalid Content \\N      0.0      0.0      0.0   \n",
      "Exception for status - Empty Field                      1.0      6.0      2.0   \n",
      "\n",
      "Y-M                                                 2018-06  2018-07  2018-08  \n",
      "Exception                                                                      \n",
      "Exception for BI Status - Invalid Content #REF!         0.0      0.0      0.0  \n",
      "Exception for Customer ID - Empty Field                 0.0      0.0      0.0  \n",
      "Exception for MV - Invalid Content -                   83.0     15.0     22.0  \n",
      "Exception for category_name_1 - Empty Field             1.0      1.0      1.0  \n",
      "Exception for category_name_1 - Invalid Content \\N      0.0      0.0      0.0  \n",
      "Exception for status - Empty Field                      2.0      4.0      0.0  \n",
      "\n",
      "[6 rows x 26 columns]\n"
     ]
    }
   ],
   "source": [
    "dfExcHM=dfExcHM.fillna(0)\n",
    "print(dfExcHM)"
   ]
  },
  {
   "cell_type": "code",
   "execution_count": 51,
   "metadata": {},
   "outputs": [
    {
     "data": {
      "text/plain": [
       "<matplotlib.axes._subplots.AxesSubplot at 0x1983f61bb38>"
      ]
     },
     "execution_count": 51,
     "metadata": {},
     "output_type": "execute_result"
    },
    {
     "data": {
      "image/png": "[encoded data removed]",
      "text/plain": [
       "<Figure size 2160x720 with 2 Axes>"
      ]
     },
     "metadata": {
      "needs_background": "light"
     },
     "output_type": "display_data"
    }
   ],
   "source": [
    "import matplotlib.pyplot as plt\n",
    "import seaborn as sns\n",
    "%matplotlib inline\n",
    "\n",
    "fig, ax = plt.subplots(figsize=(30,10))\n",
    "\n",
    "sns.heatmap(dfExcHM, annot=True, linewidths=.5, ax=ax, fmt='g')"
   ]
  },
  {
   "cell_type": "code",
   "execution_count": null,
   "metadata": {},
   "outputs": [],
   "source": []
  }
 ],
 "metadata": {
  "kernelspec": {
   "display_name": "Python 3",
   "language": "python",
   "name": "python3"
  },
  "language_info": {
   "codemirror_mode": {
    "name": "ipython",
    "version": 3
   },
   "file_extension": ".py",
   "mimetype": "text/x-python",
   "name": "python",
   "nbconvert_exporter": "python",
   "pygments_lexer": "ipython3",
   "version": "3.7.0"
  }
 },
 "nbformat": 4,
 "nbformat_minor": 2
}
